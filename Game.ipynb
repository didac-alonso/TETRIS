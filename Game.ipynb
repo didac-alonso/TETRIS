{
 "cells": [
  {
   "cell_type": "markdown",
   "metadata": {},
   "source": [
    "The Blocks Puzzle\n",
    "===============\n",
    "\n",
    "The _Blocks Puzzle_ is a simplified version of _Tetris_ with a simple set of rules:\n",
    "\n",
    "* The game is played on a rectangular board with fixed width and height.\n",
    "* A sequence of rectangular blocks must be placed on the board. The blocks cannot be rotated.\n",
    "* Every block can be placed anywhere on the board as long as the space is not occupied.\n",
    "* After placing a block, all completed rows and columns are cleared.\n",
    "\n",
    "In this project, you will have to implement an [online algorithm](https://en.wikipedia.org/wiki/Online_algorithm) for the Block Puzzle. The algorithm will read a sequence of blocks, i.e. ($w$,$h$)-pairs representing rectangles, and will place them on the board. Since the algorithm must be _online_, the location for each block must be computed without knowing the following blocks in the sequence.\n",
    "\n",
    "You must create the class `MyPlayer` with an API compatible with the methods used in this notebook."
   ]
  },
  {
   "cell_type": "code",
   "execution_count": 1,
   "metadata": {},
   "outputs": [],
   "source": [
    "from myplayer import *"
   ]
  },
  {
   "cell_type": "markdown",
   "metadata": {},
   "source": [
    "Let us create a 6x5 board (width=6, height=5). The square (0,0) is the one at the lower-left corner."
   ]
  },
  {
   "cell_type": "code",
   "execution_count": 2,
   "metadata": {},
   "outputs": [],
   "source": [
    "p = MyPlayer(6, 5)\n",
    "print(p)"
   ]
  },
  {
   "cell_type": "markdown",
   "metadata": {},
   "source": [
    "We can now place a 3x2-block in location (2,0)"
   ]
  },
  {
   "cell_type": "code",
   "execution_count": 3,
   "metadata": {},
   "outputs": [],
   "source": [
    "p.place_block(Location(2, 0), Shape(3, 2))\n",
    "print(p)"
   ]
  },
  {
   "cell_type": "markdown",
   "metadata": {},
   "source": [
    "And few more blocks:"
   ]
  },
  {
   "cell_type": "code",
   "execution_count": 4,
   "metadata": {},
   "outputs": [],
   "source": [
    "p.place_block(Location(1,5),Shape(1,4)).place_block(Location(4,4),Shape(1,1)).place_block(Location(0,2),Shape(3,2))\n",
    "print(p)"
   ]
  },
  {
   "cell_type": "markdown",
   "metadata": {},
   "source": [
    "If you want to put a block in an illegal position, an exception will be raised."
   ]
  },
  {
   "cell_type": "code",
   "execution_count": 5,
   "metadata": {},
   "outputs": [],
   "source": [
    "try:\n",
    "    p.place_block(Location(0,1), Shape(2,2))\n",
    "except:\n",
    "    print(\"The block could not be placed. The board has not been modified\")\n",
    "print(p)"
   ]
  },
  {
   "cell_type": "markdown",
   "metadata": {},
   "source": [
    "Now we will put a 2x2-block in location (2,3). The completed rows and columns will be cleared."
   ]
  },
  {
   "cell_type": "code",
   "execution_count": 6,
   "metadata": {},
   "outputs": [],
   "source": [
    "p.place_block(Location(2,3),Shape(2,2))\n",
    "print(p)"
   ]
  },
  {
   "cell_type": "markdown",
   "metadata": {},
   "source": [
    "## Let the computer play\n",
    "\n",
    "Now you know the rules of this game. Let us allow the computer to play the game. For that, an algorithm must be designed to solve the following problem:\n",
    "\n",
    "> Given a board and a new block, find a location to place the block.\n",
    "\n",
    "Several strategies can be devised to find the best location. In this project we ask the algorithms to be deterministic. In short, a [deterministic algorithm](https://en.wikipedia.org/wiki/Deterministic_algorithm) may not take random choices, i.e., for the same board configuration and the same block it must take the same decision.\n",
    "\n",
    "We ask every student to implement at least one algorithm, called _\"simple\"_, with the following specification:\n",
    "\n",
    "> From all the possible locations for a block, pick the one with the lowest row. In case several locations are possible in the same row, pick the one with the lowest column.\n",
    "\n",
    "Let us play the game in a small 4x4-board."
   ]
  },
  {
   "cell_type": "code",
   "execution_count": 7,
   "metadata": {},
   "outputs": [],
   "source": [
    "p = MyPlayer(4,4)"
   ]
  },
  {
   "cell_type": "markdown",
   "metadata": {},
   "source": [
    "We let the computer choose the best location for a 2x2-Block. For that, we will used the method `play`that receives a block, i.e., a shape ($w$,$h$). The method returns the selected location, or `None` if the block cannot be placed anywhere."
   ]
  },
  {
   "cell_type": "code",
   "execution_count": 8,
   "metadata": {
    "scrolled": true
   },
   "outputs": [],
   "source": [
    "block = Shape(2,2)\n",
    "location = p.play(block)\n",
    "if location is not None:\n",
    "    print(\"Selected location:\", location)\n",
    "    p.place_block(location, block)\n",
    "else:\n",
    "    print(\"The block could not be placed\")\n",
    "print(p)"
   ]
  },
  {
   "cell_type": "markdown",
   "metadata": {},
   "source": [
    "And now we play with more blocks from a list until one of them cannot be placed.\n",
    "\n",
    "**Recommendation:** for debugging purposes, try to play the game with the same pieces mimicking the _simple_ strategy to find the locations. Check that the final result is the same."
   ]
  },
  {
   "cell_type": "code",
   "execution_count": 9,
   "metadata": {},
   "outputs": [],
   "source": [
    "blocks = [Shape(1,1), Shape(2,3), Shape(1,2), Shape(3,1), Shape(2,2), Shape(1,3),\\\n",
    "          Shape(1,3), Shape(3,2), Shape(1,1), Shape(2,1), Shape(1,3)]\n",
    "for bl in blocks:\n",
    "    location = p.play(bl)\n",
    "    if location is None:\n",
    "        print(bl, \"could not be placed.\")\n",
    "        break\n",
    "    print(\"Block placed in:\", location)\n",
    "    p.place_block(location, bl)\n",
    "print(p)"
   ]
  },
  {
   "cell_type": "markdown",
   "metadata": {},
   "source": [
    "We now define a function that plays the game for a list of blocks using a player."
   ]
  },
  {
   "cell_type": "code",
   "execution_count": 10,
   "metadata": {},
   "outputs": [],
   "source": [
    "def play_game(player, blocks, show=True):\n",
    "    \"\"\"It plays the blocks puzzle using a pre-defined player. If show is asserted, the state of the player \n",
    "    is printed after placing each block. It returns the number of blocks that could be placed.\n",
    "    \"\"\"\n",
    "    if show: print(player)\n",
    "    count = 0\n",
    "    for block in blocks:\n",
    "        assert player.is_legal(block)\n",
    "        loc = player.play(block)\n",
    "        if loc is None: break\n",
    "        player.place_block(loc, block)\n",
    "        count += 1\n",
    "        if show: print(player)\n",
    "    return count"
   ]
  },
  {
   "cell_type": "markdown",
   "metadata": {},
   "source": [
    "## Reading a sequence of blocks from a file\n",
    "\n",
    "Playing with long sequences of blocks could be a tedious task. The next function reads a file from an URL and converts it into a list of shapes. The file contains pairs of integer values (width and height), for example:\n",
    "```\n",
    "1 1  2 3  1 2\n",
    "3 1  2 2  1 3  1 3\n",
    "3 2  1 1  2 1  1 3\n",
    "```"
   ]
  },
  {
   "cell_type": "code",
   "execution_count": 11,
   "metadata": {},
   "outputs": [],
   "source": [
    "import urllib.request\n",
    "\n",
    "def read_file(file, url=True):\n",
    "    \"\"\"It reads a file of integers representing shapes. Each pair of consecutive integers represents\n",
    "    a shape (width and height). It returns a list of shapes. If url is not asserted, file is assumed\n",
    "    to be the name of a local file.\n",
    "    \"\"\"\n",
    "    if url:\n",
    "        with urllib.request.urlopen(file) as reader:\n",
    "            items = reader.read().split()\n",
    "    else:\n",
    "        with open(file) as reader:\n",
    "            items = reader.read().split()\n",
    "            \n",
    "    # Check there is an even number of items\n",
    "    assert len(items) % 2 == 0, \"Wrong number of items in \" + file\n",
    "    \n",
    "    # Convert pairs of items to shapes, checking that the items are correct.\n",
    "    R = []\n",
    "    for i in range(0, len(items), 2):\n",
    "        # Check the items are numbers\n",
    "        assert items[i].isdigit() and items[i+1].isdigit(), \"Some element in the list is not an integer\"\n",
    "        w, h = int(items[i]), int(items[i+1])\n",
    "        assert w > 0 and h > 0, \"Illegal size for a shape\"\n",
    "        R.append(Shape(w, h))\n",
    "    return R"
   ]
  },
  {
   "cell_type": "markdown",
   "metadata": {},
   "source": [
    "You can download four sequences of blocks here: [blocks1.in](https://www.cs.upc.edu/~jordicf/Teaching/AP2/blocks1.in), [blocks2.in](https://www.cs.upc.edu/~jordicf/Teaching/AP2/blocks2.in), [blocks3.in](https://www.cs.upc.edu/~jordicf/Teaching/AP2/blocks3.in) and [blocks4.in](https://www.cs.upc.edu/~jordicf/Teaching/AP2/blocks4.in).\n",
    "\n",
    "Each of these files contains a sequence of 1000 blocks. We can now play with them and see how many pieces we can place on a 20x20-board for each file."
   ]
  },
  {
   "cell_type": "code",
   "execution_count": 12,
   "metadata": {},
   "outputs": [
    {
     "name": "stdout",
     "output_type": "stream",
     "text": [
      "235 blocks placed (out of 1000) for blocks1.in\n",
      "The block Shape(width=3, height=3) cannot be placed.\n",
      "⬛⬛⬛⬜⬜⬜⬜⬜⬜⬜⬜⬜⬜⬜⬜⬜⬜⬜⬜⬜\n",
      "⬛⬛⬛⬜⬜⬜⬜⬛⬛⬛⬜⬜⬜⬜⬜⬛⬛⬛⬜⬜\n",
      "⬛⬛⬛⬜⬜⬛⬛⬛⬛⬛⬜⬜⬛⬛⬛⬛⬛⬛⬜⬜\n",
      "⬛⬛⬛⬛⬛⬛⬛⬛⬛⬛⬛⬛⬛⬛⬛⬛⬛⬛⬜⬜\n",
      "⬛⬛⬛⬛⬛⬛⬛⬛⬛⬛⬛⬛⬛⬛⬛⬛⬛⬛⬜⬜\n",
      "⬛⬛⬛⬛⬛⬛⬜⬛⬛⬛⬛⬛⬛⬛⬛⬛⬛⬛⬛⬛\n",
      "⬜⬜⬛⬛⬛⬛⬛⬛⬜⬜⬜⬛⬜⬜⬜⬜⬜⬜⬜⬜\n",
      "⬛⬛⬛⬛⬛⬛⬛⬛⬛⬛⬛⬛⬛⬛⬛⬛⬛⬛⬛⬜\n",
      "⬜⬜⬛⬛⬛⬜⬛⬛⬛⬛⬛⬛⬛⬛⬛⬛⬛⬛⬛⬜\n",
      "⬛⬛⬛⬛⬛⬛⬛⬛⬛⬛⬛⬛⬛⬛⬛⬛⬜⬛⬛⬛\n",
      "⬛⬛⬛⬛⬛⬛⬛⬛⬛⬛⬛⬛⬜⬜⬛⬛⬛⬛⬛⬛\n",
      "⬛⬛⬜⬛⬛⬛⬛⬛⬛⬛⬛⬛⬛⬛⬛⬛⬛⬛⬛⬛\n",
      "⬛⬛⬜⬛⬛⬛⬛⬛⬛⬛⬛⬛⬛⬛⬛⬛⬛⬛⬛⬛\n",
      "⬜⬜⬜⬜⬜⬜⬜⬜⬜⬜⬜⬜⬜⬜⬜⬜⬜⬜⬜⬜\n",
      "⬜⬜⬜⬛⬛⬛⬜⬛⬛⬛⬛⬛⬛⬛⬛⬛⬛⬛⬛⬛\n",
      "⬛⬛⬛⬛⬛⬛⬛⬛⬜⬛⬛⬛⬛⬛⬛⬛⬛⬛⬛⬛\n",
      "⬛⬛⬛⬛⬛⬛⬛⬛⬛⬛⬛⬛⬛⬛⬛⬛⬛⬛⬜⬜\n",
      "⬛⬛⬛⬛⬛⬜⬛⬛⬛⬛⬛⬛⬛⬛⬛⬛⬛⬛⬛⬛\n",
      "⬛⬛⬛⬜⬛⬛⬛⬛⬛⬛⬛⬛⬛⬛⬛⬛⬛⬛⬛⬛\n",
      "⬛⬛⬛⬛⬛⬛⬛⬛⬛⬛⬛⬛⬛⬛⬛⬛⬛⬛⬛⬜ \n",
      "\n",
      "361 blocks placed (out of 1000) for blocks2.in\n",
      "The block Shape(width=3, height=3) cannot be placed.\n",
      "⬛⬛⬛⬛⬜⬜⬜⬜⬛⬛⬜⬜⬜⬜⬜⬜⬜⬜⬜⬜\n",
      "⬛⬛⬛⬛⬜⬜⬜⬜⬛⬛⬛⬛⬛⬜⬜⬜⬛⬛⬛⬛\n",
      "⬛⬛⬛⬛⬜⬛⬛⬛⬛⬛⬛⬛⬛⬛⬛⬛⬛⬛⬛⬛\n",
      "⬛⬛⬜⬛⬛⬛⬛⬛⬛⬛⬛⬜⬛⬛⬛⬛⬛⬛⬛⬛\n",
      "⬛⬛⬜⬛⬛⬛⬛⬛⬛⬛⬛⬜⬛⬛⬛⬜⬜⬛⬛⬛\n",
      "⬛⬛⬜⬜⬜⬜⬜⬜⬛⬛⬛⬜⬜⬜⬜⬜⬜⬜⬜⬜\n",
      "⬛⬛⬜⬛⬛⬛⬛⬛⬛⬛⬛⬛⬜⬛⬛⬛⬛⬛⬛⬛\n",
      "⬛⬛⬜⬛⬛⬛⬛⬛⬛⬜⬛⬛⬛⬛⬛⬛⬛⬛⬛⬛\n",
      "⬛⬛⬜⬜⬛⬛⬛⬛⬛⬛⬛⬛⬛⬛⬛⬛⬜⬛⬛⬛\n",
      "⬛⬛⬜⬛⬛⬛⬛⬛⬛⬜⬛⬛⬛⬛⬛⬛⬛⬛⬛⬜\n",
      "⬛⬛⬜⬛⬛⬛⬛⬛⬛⬜⬛⬛⬛⬛⬛⬛⬛⬛⬛⬜\n",
      "⬛⬛⬜⬛⬛⬛⬛⬜⬛⬛⬛⬛⬛⬛⬛⬛⬛⬛⬛⬛\n",
      "⬛⬛⬜⬛⬛⬛⬛⬛⬛⬛⬛⬛⬛⬛⬛⬛⬛⬛⬛⬜\n",
      "⬛⬛⬜⬛⬛⬜⬛⬛⬛⬛⬛⬛⬛⬛⬛⬛⬛⬜⬛⬛\n",
      "⬛⬛⬜⬛⬛⬛⬛⬛⬜⬜⬜⬜⬜⬜⬛⬛⬜⬜⬛⬛\n",
      "⬜⬛⬜⬛⬛⬜⬛⬜⬛⬛⬜⬛⬛⬛⬛⬛⬛⬛⬛⬛\n",
      "⬛⬛⬜⬛⬛⬛⬛⬛⬛⬛⬛⬛⬛⬛⬛⬜⬛⬛⬛⬜\n",
      "⬜⬜⬜⬛⬛⬛⬛⬛⬛⬛⬛⬜⬛⬛⬛⬛⬛⬛⬛⬛\n",
      "⬜⬜⬜⬛⬛⬛⬜⬜⬛⬛⬜⬜⬜⬜⬜⬛⬛⬛⬛⬜\n",
      "⬛⬛⬛⬛⬛⬛⬛⬛⬛⬛⬛⬛⬛⬛⬛⬛⬛⬛⬛⬜ \n",
      "\n",
      "332 blocks placed (out of 1000) for blocks3.in\n",
      "The block Shape(width=3, height=3) cannot be placed.\n",
      "⬛⬛⬛⬛⬛⬛⬜⬜⬜⬜⬜⬛⬛⬜⬜⬜⬜⬜⬜⬜\n",
      "⬛⬛⬛⬛⬛⬛⬜⬜⬜⬛⬛⬛⬛⬛⬛⬛⬜⬜⬜⬜\n",
      "⬜⬜⬜⬛⬛⬛⬛⬛⬛⬛⬛⬛⬛⬛⬛⬛⬛⬛⬛⬜\n",
      "⬛⬛⬛⬛⬛⬛⬛⬛⬛⬜⬛⬛⬛⬛⬛⬛⬛⬛⬛⬜\n",
      "⬛⬛⬛⬛⬛⬛⬜⬜⬛⬛⬛⬛⬛⬛⬛⬛⬛⬛⬛⬜\n",
      "⬛⬛⬛⬛⬛⬛⬛⬛⬜⬜⬜⬜⬜⬛⬛⬛⬛⬛⬛⬜\n",
      "⬛⬛⬛⬛⬛⬛⬛⬛⬛⬛⬛⬜⬛⬛⬜⬜⬛⬛⬛⬜\n",
      "⬛⬛⬛⬛⬛⬜⬛⬛⬛⬛⬛⬛⬛⬛⬛⬛⬛⬜⬛⬛\n",
      "⬛⬛⬛⬛⬛⬜⬛⬛⬛⬛⬛⬜⬛⬛⬛⬛⬛⬜⬛⬛\n",
      "⬜⬜⬛⬛⬛⬜⬜⬜⬜⬜⬜⬜⬜⬜⬜⬛⬛⬛⬜⬜\n",
      "⬛⬛⬛⬛⬛⬜⬛⬛⬛⬛⬛⬛⬛⬛⬛⬛⬛⬛⬛⬛\n",
      "⬜⬜⬜⬜⬜⬜⬜⬜⬜⬛⬛⬜⬜⬜⬛⬜⬜⬜⬜⬜\n",
      "⬛⬛⬛⬜⬛⬛⬛⬛⬛⬛⬛⬛⬛⬛⬛⬛⬛⬛⬛⬛\n",
      "⬛⬛⬛⬛⬛⬜⬜⬜⬜⬜⬜⬜⬜⬜⬜⬜⬜⬜⬜⬛\n",
      "⬛⬛⬛⬜⬜⬜⬜⬜⬛⬜⬜⬜⬜⬜⬜⬜⬜⬜⬜⬜\n",
      "⬛⬛⬛⬛⬛⬛⬛⬛⬛⬛⬛⬛⬛⬛⬜⬛⬛⬛⬛⬛\n",
      "⬜⬛⬛⬛⬛⬛⬛⬛⬛⬛⬜⬛⬛⬛⬛⬛⬛⬛⬛⬜\n",
      "⬛⬛⬛⬜⬛⬛⬜⬛⬛⬛⬛⬛⬛⬛⬛⬛⬛⬛⬛⬛\n",
      "⬛⬜⬛⬛⬛⬛⬛⬛⬛⬛⬛⬛⬛⬛⬛⬛⬛⬛⬛⬛\n",
      "⬛⬛⬛⬛⬛⬛⬛⬛⬛⬛⬛⬛⬛⬛⬛⬛⬛⬛⬛⬜ \n",
      "\n",
      "241 blocks placed (out of 1000) for blocks4.in\n",
      "The block Shape(width=3, height=3) cannot be placed.\n",
      "⬜⬜⬜⬜⬜⬜⬜⬜⬜⬜⬜⬜⬜⬜⬜⬜⬜⬜⬜⬜\n",
      "⬜⬜⬛⬛⬛⬜⬛⬛⬛⬛⬛⬛⬛⬛⬛⬛⬛⬛⬛⬜\n",
      "⬛⬛⬛⬛⬛⬜⬛⬛⬛⬛⬛⬛⬛⬛⬛⬛⬛⬛⬛⬜\n",
      "⬛⬛⬜⬛⬛⬛⬛⬛⬛⬛⬛⬛⬛⬛⬛⬛⬛⬛⬛⬜\n",
      "⬛⬛⬜⬛⬛⬛⬛⬛⬛⬛⬛⬛⬛⬛⬛⬛⬛⬛⬛⬛\n",
      "⬛⬛⬛⬛⬛⬛⬛⬛⬛⬛⬛⬛⬛⬛⬛⬜⬛⬛⬜⬜\n",
      "⬛⬛⬛⬛⬛⬛⬛⬛⬛⬛⬛⬛⬛⬛⬛⬜⬛⬛⬜⬜\n",
      "⬜⬜⬜⬜⬜⬜⬜⬛⬛⬛⬛⬛⬜⬜⬜⬜⬜⬜⬜⬜\n",
      "⬛⬛⬜⬜⬛⬛⬛⬛⬛⬛⬛⬛⬛⬛⬛⬛⬛⬛⬛⬛\n",
      "⬜⬜⬜⬜⬜⬜⬜⬜⬜⬜⬜⬜⬜⬜⬜⬜⬜⬜⬜⬜\n",
      "⬛⬛⬛⬛⬛⬛⬛⬜⬜⬛⬛⬛⬛⬛⬛⬛⬛⬛⬛⬛\n",
      "⬛⬛⬜⬛⬛⬛⬛⬛⬛⬛⬛⬛⬛⬛⬛⬛⬛⬛⬛⬛\n",
      "⬛⬛⬜⬜⬜⬜⬜⬜⬜⬜⬜⬜⬜⬜⬜⬛⬛⬛⬛⬛\n",
      "⬛⬛⬛⬛⬛⬛⬛⬛⬛⬛⬛⬛⬛⬜⬛⬜⬛⬛⬛⬛\n",
      "⬛⬜⬛⬛⬛⬛⬛⬛⬛⬛⬛⬛⬛⬛⬛⬛⬛⬛⬛⬛\n",
      "⬛⬛⬛⬛⬜⬜⬛⬛⬛⬛⬛⬛⬛⬛⬛⬛⬛⬛⬛⬛\n",
      "⬛⬛⬛⬛⬛⬛⬜⬜⬛⬛⬛⬛⬜⬛⬜⬜⬜⬜⬜⬜\n",
      "⬛⬛⬛⬛⬛⬛⬛⬛⬛⬛⬜⬛⬛⬛⬛⬛⬛⬛⬛⬛\n",
      "⬛⬜⬛⬛⬛⬛⬛⬛⬛⬛⬛⬜⬛⬛⬛⬛⬛⬛⬛⬜\n",
      "⬛⬛⬛⬛⬛⬛⬛⬛⬛⬛⬛⬛⬛⬛⬛⬜⬛⬛⬜⬜ \n",
      "\n"
     ]
    }
   ],
   "source": [
    "url = \"https://www.cs.upc.edu/~jordicf/Teaching/AP2/\"\n",
    "files = [\"blocks1.in\", \"blocks2.in\", \"blocks3.in\", \"blocks4.in\"]\n",
    "for file in files:\n",
    "    blocks = read_file(url+file, url=True)\n",
    "    player = MyPlayer(20, 20)\n",
    "    nblocks = play_game(player, blocks, False)\n",
    "    print(nblocks, \" blocks placed (out of \", len(blocks), \") for \", file, sep='')\n",
    "    if nblocks < len(blocks):\n",
    "        print(\"The block\", blocks[nblocks], \"cannot be placed.\")\n",
    "    print(player, '\\n')"
   ]
  },
  {
   "cell_type": "markdown",
   "metadata": {},
   "source": [
    "## Blocks Pro (for free)\n",
    "\n",
    "As expected, the _simple_ algorithm is not very smart. As an optional task (to be eligible for the maximum grade), we will allow each student to devise an _expert_ algorithm that can perform a better job than the simple one. This means that the expert algorithm should at least double the number of pieces placed by the simple algorithm.\n",
    "\n",
    "For that, we will allow `MyPlayer` to accept a third parameter (a string) that will select the new algorithm. If the parameter is not defined, the `\"simple\"` value will be assumed by default. The `\"expert\"` value will select the new algorithm. This algorithm will only affect the selection of the location calculated by the `play` method.\n",
    "\n",
    "Here you can see the results obtained by Jordi Cortadella's expert algorithm on various square boards. The algorithm manages to place all pieces of the four sequences in a 15x15 board. Can you beat it?\n",
    "\n",
    "**Constraint:** The smart strategy used by the expert algorithm should be fast. In this project, the constraint will be determined by the runtime of the last cell of this notebook: it must be executed in less than 3 minutes (see the _Wall time_ at the output). As a clue, the runtime of the last cell using Jordi's algorithm is about 45 secs. "
   ]
  },
  {
   "cell_type": "code",
   "execution_count": 13,
   "metadata": {},
   "outputs": [
    {
     "name": "stdout",
     "output_type": "stream",
     "text": [
      "10x10 blocks1.in: simple (47 blocks) expert (160 blocks) \n",
      "10x10 blocks2.in: simple (38 blocks) expert (419 blocks) \n",
      "10x10 blocks3.in: simple (43 blocks) expert (629 blocks) \n",
      "10x10 blocks4.in: simple (73 blocks) expert (519 blocks) \n",
      "------------------------------------------------------------\n",
      "11x11 blocks1.in: simple (48 blocks) expert (136 blocks) \n",
      "11x11 blocks2.in: simple (57 blocks) expert (1000 blocks) \n",
      "11x11 blocks3.in: simple (48 blocks) expert (165 blocks) \n",
      "11x11 blocks4.in: simple (46 blocks) expert (588 blocks) \n",
      "------------------------------------------------------------\n",
      "12x12 blocks1.in: simple (84 blocks) expert (1000 blocks) \n",
      "12x12 blocks2.in: simple (118 blocks) expert (1000 blocks) \n",
      "12x12 blocks3.in: simple (78 blocks) expert (959 blocks) \n",
      "12x12 blocks4.in: simple (108 blocks) expert (1000 blocks) \n",
      "------------------------------------------------------------\n",
      "13x13 blocks1.in: simple (75 blocks) expert (997 blocks) \n",
      "13x13 blocks2.in: simple (150 blocks) expert (1000 blocks) \n",
      "13x13 blocks3.in: simple (95 blocks) expert (986 blocks) \n",
      "13x13 blocks4.in: simple (109 blocks) expert (1000 blocks) \n",
      "------------------------------------------------------------\n",
      "14x14 blocks1.in: simple (81 blocks) expert (1000 blocks) \n",
      "14x14 blocks2.in: simple (150 blocks) expert (1000 blocks) \n",
      "14x14 blocks3.in: simple (78 blocks) expert (937 blocks) \n",
      "14x14 blocks4.in: simple (84 blocks) expert (1000 blocks) \n",
      "------------------------------------------------------------\n",
      "15x15 blocks1.in: simple (191 blocks) expert (1000 blocks) \n",
      "15x15 blocks2.in: simple (152 blocks) expert (1000 blocks) \n",
      "15x15 blocks3.in: simple (87 blocks) expert (1000 blocks) \n",
      "15x15 blocks4.in: simple (198 blocks) expert (1000 blocks) \n",
      "------------------------------------------------------------\n",
      "CPU times: user 35.5 s, sys: 4.18 ms, total: 35.5 s\n",
      "Wall time: 41.8 s\n"
     ]
    }
   ],
   "source": [
    "%%time\n",
    "methods = [\"simple\", \"expert\"]\n",
    "width = range(10,16)\n",
    "\n",
    "for w in width:\n",
    "    for f in files:\n",
    "        print(w, 'x', w, ' ', f, ': ', sep='', end='')\n",
    "        blocks = read_file(url+f, url=True)\n",
    "        for m in methods:\n",
    "            player = MyPlayer(w, w, method=m)\n",
    "            nblocks = play_game(player, blocks, False)\n",
    "            print(m,' (', nblocks, ' blocks) ', sep='', end='')\n",
    "        print()\n",
    "    print(\"-\"*60)"
   ]
  }
 ],
 "metadata": {
  "hide_input": false,
  "kernelspec": {
   "display_name": "Python 3",
   "language": "python",
   "name": "python3"
  },
  "language_info": {
   "codemirror_mode": {
    "name": "ipython",
    "version": 3
   },
   "file_extension": ".py",
   "mimetype": "text/x-python",
   "name": "python",
   "nbconvert_exporter": "python",
   "pygments_lexer": "ipython3",
   "version": "3.8.5"
  },
  "varInspector": {
   "cols": {
    "lenName": 16,
    "lenType": 16,
    "lenVar": 40
   },
   "kernels_config": {
    "python": {
     "delete_cmd_postfix": "",
     "delete_cmd_prefix": "del ",
     "library": "var_list.py",
     "varRefreshCmd": "print(var_dic_list())"
    },
    "r": {
     "delete_cmd_postfix": ") ",
     "delete_cmd_prefix": "rm(",
     "library": "var_list.r",
     "varRefreshCmd": "cat(var_dic_list()) "
    }
   },
   "types_to_exclude": [
    "module",
    "function",
    "builtin_function_or_method",
    "instance",
    "_Feature"
   ],
   "window_display": false
  }
 },
 "nbformat": 4,
 "nbformat_minor": 4
}
