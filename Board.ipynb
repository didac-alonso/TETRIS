{
 "cells": [
  {
   "cell_type": "markdown",
   "metadata": {},
   "source": [
    "# The board\n",
    "A board can be represented as a grid with height $h$ (number of rows) and width $w$ (number of columns). The rows and columns are numbered from $0$ to $h-1$ and from $0$ to $w-1$, respectively. We will often refer to a $w\\times h$-board as a board with width $w$ and height $h$.  Each square is identified by a (row,column)-pair. The lower-left corner of the board corresponds to square (0,0). Next, a 4x3-board is depicted.\n",
    "```\n",
    "          col 0   col 1   col 2   col 3\n",
    "        ---------------------------------\n",
    "row 2:  | (2,0) | (2,1) | (2,2) | (2,3) |\n",
    "        ---------------------------------\n",
    "row 1:  | (1,0) | (1,1) | (1,2) | (1,3) |\n",
    "        ---------------------------------\n",
    "row 0:  | (0,0) | (0,1) | (0,2) | (0,3) |\n",
    "        ---------------------------------\n",
    "```\n",
    "\n",
    "A class for the board must be implemented in a way that **exactly** the interface used in this notebook is available. The class may have internal attributes and methods for the sake of efficiency and modularity."
   ]
  },
  {
   "cell_type": "code",
   "execution_count": 19,
   "metadata": {},
   "outputs": [],
   "source": [
    "from gameboard import *"
   ]
  },
  {
   "cell_type": "markdown",
   "metadata": {},
   "source": [
    "The module `gameboard` has two types, `Location` and `Shape`, and the class `GameBoard`. The two types are defined as follows:\n",
    "\n",
    "```python\n",
    "Location = collections.namedtuple('Location', 'row column')\n",
    "Shape = collections.namedtuple('Shape', 'width height')\n",
    "```\n",
    "\n",
    "We now construct a board with $w=4$ and $h=3$. The board is initially empty."
   ]
  },
  {
   "cell_type": "code",
   "execution_count": 20,
   "metadata": {},
   "outputs": [],
   "source": [
    "b = GameBoard(Shape(4, 3))"
   ]
  },
  {
   "cell_type": "markdown",
   "metadata": {},
   "source": [
    "We can get the dimensions of the board."
   ]
  },
  {
   "cell_type": "code",
   "execution_count": 21,
   "metadata": {
    "scrolled": true
   },
   "outputs": [
    {
     "name": "stdout",
     "output_type": "stream",
     "text": [
      "We have created a 4x3 board.\n"
     ]
    }
   ],
   "source": [
    "shape = b.get_shape()\n",
    "print(\"We have created a \", shape.width, \"x\", shape.height, \" board.\", sep='')"
   ]
  },
  {
   "cell_type": "markdown",
   "metadata": {},
   "source": [
    "We can put tokens in squares. Notice that `put` returns the object itself in a way that multiple calls can be chained. The method `put` must be executed in $\\textrm{O}(1)$ time.\n",
    "\n",
    "We can also see how to create named tuples by assigning values to attributes implicitly or explicitly. "
   ]
  },
  {
   "cell_type": "code",
   "execution_count": 22,
   "metadata": {
    "scrolled": true
   },
   "outputs": [
    {
     "name": "stdout",
     "output_type": "stream",
     "text": [
      "3 tokens have been put on the board.\n"
     ]
    }
   ],
   "source": [
    "b.put(Location(row=1, column=1)).put(Location(2, 0)).put(Location(column=3, row=0))\n",
    "print(\"3 tokens have been put on the board.\")"
   ]
  },
  {
   "cell_type": "markdown",
   "metadata": {},
   "source": [
    "We can `print` the board with the information provided by the `__str()__` method."
   ]
  },
  {
   "cell_type": "code",
   "execution_count": 23,
   "metadata": {},
   "outputs": [
    {
     "name": "stdout",
     "output_type": "stream",
     "text": [
      "⬛⬜⬜⬜\n",
      "⬜⬛⬜⬜\n",
      "⬜⬜⬜⬛\n",
      "\n"
     ]
    }
   ],
   "source": [
    "print(b)"
   ]
  },
  {
   "cell_type": "markdown",
   "metadata": {},
   "source": [
    "Incidentally, the previous picture could be generated using unicode characters. For example, try this:"
   ]
  },
  {
   "cell_type": "code",
   "execution_count": 24,
   "metadata": {},
   "outputs": [
    {
     "name": "stdout",
     "output_type": "stream",
     "text": [
      "⬜⬛\n"
     ]
    }
   ],
   "source": [
    "print('\\u2b1c\\u2b1b')"
   ]
  },
  {
   "cell_type": "markdown",
   "metadata": {},
   "source": [
    "We can also dump internal information about the board using the `__repr()__` method. It reports the size of the board and the squares with tokens."
   ]
  },
  {
   "cell_type": "code",
   "execution_count": 25,
   "metadata": {},
   "outputs": [
    {
     "name": "stdout",
     "output_type": "stream",
     "text": [
      "4x3 board: [(2, 0), (1, 1), (0, 3)]"
     ]
    },
    {
     "data": {
      "text/plain": []
     },
     "execution_count": 25,
     "metadata": {},
     "output_type": "execute_result"
    }
   ],
   "source": [
    "b"
   ]
  },
  {
   "cell_type": "markdown",
   "metadata": {},
   "source": [
    "The board methods raise exceptions when some illegal operation is executed. For example, when `put` tries to put a token out of the board or when the square is already occupied."
   ]
  },
  {
   "cell_type": "code",
   "execution_count": 26,
   "metadata": {
    "scrolled": true
   },
   "outputs": [
    {
     "name": "stdout",
     "output_type": "stream",
     "text": [
      "The square is out of bounds.\n",
      "The square is already occupied.\n"
     ]
    }
   ],
   "source": [
    "try:\n",
    "    b.put(Location(1, 5))\n",
    "except:\n",
    "    print(\"The square is out of bounds.\")\n",
    "    \n",
    "try:\n",
    "    b.put(Location(2, 0))\n",
    "except:\n",
    "    print(\"The square is already occupied.\")"
   ]
  },
  {
   "cell_type": "markdown",
   "metadata": {},
   "source": [
    "We can check whether a square is empty or not."
   ]
  },
  {
   "cell_type": "code",
   "execution_count": 27,
   "metadata": {},
   "outputs": [
    {
     "name": "stdout",
     "output_type": "stream",
     "text": [
      "Is (0, 0) empty? True\n",
      "Is (2, 0) empty? False\n"
     ]
    }
   ],
   "source": [
    "print(\"Is (0, 0) empty?\", b.is_empty(Location(0, 0)))\n",
    "print(\"Is (2, 0) empty?\", b.is_empty(Location(2, 0)))"
   ]
  },
  {
   "cell_type": "markdown",
   "metadata": {},
   "source": [
    "We can also remove a token from a square. An exception is raised if the square is empty."
   ]
  },
  {
   "cell_type": "code",
   "execution_count": 28,
   "metadata": {},
   "outputs": [
    {
     "name": "stdout",
     "output_type": "stream",
     "text": [
      "⬛⬜⬜⬜\n",
      "⬜⬛⬜⬜\n",
      "⬜⬜⬜⬜\n",
      "\n"
     ]
    }
   ],
   "source": [
    "b.remove(Location(0, 3))\n",
    "print(b)"
   ]
  },
  {
   "cell_type": "markdown",
   "metadata": {},
   "source": [
    "We can also put a rectangle on the board. The `put` method can accept an extra parameters of type `Shape`. The location corresponds to the lower-left corner of the rectangle.\n",
    "\n",
    "When putting a $w\\times h$-rectangle, the complexity must be $\\textrm{O}(w\\times h)$."
   ]
  },
  {
   "cell_type": "code",
   "execution_count": 29,
   "metadata": {},
   "outputs": [
    {
     "name": "stdout",
     "output_type": "stream",
     "text": [
      "⬛⬜⬛⬛\n",
      "⬜⬛⬛⬛\n",
      "⬜⬜⬜⬜\n",
      "\n"
     ]
    }
   ],
   "source": [
    "b.put(Location(1, 2), Shape(2, 2))\n",
    "print(b)"
   ]
  },
  {
   "cell_type": "markdown",
   "metadata": {},
   "source": [
    "An exception is raised when the rectangle cannot be put on the board, maybe because the rectangle is too big or some square is already occupied.\n",
    "\n",
    "**Important:** if the rectangle cannot be put on the board, the board is **not modified**."
   ]
  },
  {
   "cell_type": "code",
   "execution_count": 30,
   "metadata": {
    "scrolled": true
   },
   "outputs": [
    {
     "name": "stdout",
     "output_type": "stream",
     "text": [
      "The rectangle cannot be put on the board.\n",
      "⬛⬜⬛⬛\n",
      "⬜⬛⬛⬛\n",
      "⬜⬜⬜⬜\n",
      "\n",
      "⬛⬜⬛⬛\n",
      "⬜⬛⬛⬛\n",
      "⬜⬜⬜⬜\n",
      "\n"
     ]
    }
   ],
   "source": [
    "try:\n",
    "    b.put(Location(0, 0), Shape(width=2, height=2))\n",
    "    print(b)\n",
    "except:\n",
    "    print(\"The rectangle cannot be put on the board.\")\n",
    "\n",
    "print(b)"
   ]
  },
  {
   "cell_type": "markdown",
   "metadata": {},
   "source": [
    "The methods `full_rows` and `full_columns` return the list of rows and columns with all squares occupied, respectively.\n",
    "\n",
    "**Important:** These methods must be efficient. In a $w\\times h$-board, `full_rows` and `full_columns` must be executed in $\\textrm{O}(h)$ and $\\textrm{O}(w)$ time, respectively. The internal implementation of the class must ensure this complexity."
   ]
  },
  {
   "cell_type": "code",
   "execution_count": 31,
   "metadata": {
    "scrolled": true
   },
   "outputs": [
    {
     "name": "stdout",
     "output_type": "stream",
     "text": [
      "⬛⬛⬛⬛\n",
      "⬜⬛⬛⬛\n",
      "⬜⬜⬛⬛\n",
      "\n",
      "full rows: [2]; full columns: [2, 3]\n"
     ]
    }
   ],
   "source": [
    "print(b.put(Location(2, 1)).put(Location(0, 2)).put(Location(0, 3)))\n",
    "print(\"full rows: \", b.full_rows(), \"; full columns: \", b.full_columns(), sep='')"
   ]
  },
  {
   "cell_type": "markdown",
   "metadata": {},
   "source": [
    "The methods `clear_rows` and `clear_columns` receive a list of rows or columns as parameter. They remove all tokens present in the rows or columns, respectively, regardless they are full or not."
   ]
  },
  {
   "cell_type": "code",
   "execution_count": 32,
   "metadata": {
    "scrolled": true
   },
   "outputs": [
    {
     "name": "stdout",
     "output_type": "stream",
     "text": [
      "⬜⬜⬜⬜\n",
      "⬜⬛⬛⬜\n",
      "⬜⬜⬛⬜\n",
      "\n"
     ]
    }
   ],
   "source": [
    "b.clear_rows(b.full_rows()).clear_columns([0, 3])\n",
    "print(b)"
   ]
  },
  {
   "cell_type": "code",
   "execution_count": 33,
   "metadata": {},
   "outputs": [
    {
     "name": "stdout",
     "output_type": "stream",
     "text": [
      "⬜⬜⬜⬜\n",
      "⬜⬛⬛⬜\n",
      "⬛⬛⬛⬜\n",
      "\n"
     ]
    }
   ],
   "source": [
    "b.put(Location(0, 0)).put(Location(0, 1))\n",
    "print(b)"
   ]
  },
  {
   "cell_type": "markdown",
   "metadata": {},
   "source": [
    "We can get a list of row counters and column counters."
   ]
  },
  {
   "cell_type": "code",
   "execution_count": 34,
   "metadata": {},
   "outputs": [
    {
     "name": "stdout",
     "output_type": "stream",
     "text": [
      "Row counters: [3, 2, 0]\n",
      "Column counters: [1, 2, 2, 0]\n"
     ]
    }
   ],
   "source": [
    "print(\"Row counters:\", b.row_counters())\n",
    "print(\"Column counters:\", b.column_counters())"
   ]
  },
  {
   "cell_type": "markdown",
   "metadata": {},
   "source": [
    "We can also remove a rectangle. The parameters are the same as in `put`. An exception is raised if the rectangle is not fully occupied. In case of an exception, the board is not modified."
   ]
  },
  {
   "cell_type": "code",
   "execution_count": 35,
   "metadata": {},
   "outputs": [
    {
     "name": "stdout",
     "output_type": "stream",
     "text": [
      "The rectangle cannot be removed.\n",
      "The rectangle has been removed.\n",
      "⬜⬜⬜⬜\n",
      "⬜⬛⬛⬜\n",
      "⬛⬛⬛⬜\n",
      "\n",
      "The rectangle has been removed.\n",
      "⬜⬜⬜⬜\n",
      "⬜⬜⬜⬜\n",
      "⬛⬜⬜⬜\n",
      "\n"
     ]
    }
   ],
   "source": [
    "try:\n",
    "    b.remove(Location(0, 0), Shape(2, 2))\n",
    "    print(\"The rectangle has been removed.\")\n",
    "except:\n",
    "    print(\"The rectangle cannot be removed.\")\n",
    "print(b)\n",
    "\n",
    "try:\n",
    "    b.remove(Location(0, 1), Shape(2, 2))\n",
    "    print(\"The rectangle has been removed.\")\n",
    "except:\n",
    "    print(\"The rectangle cannot be removed.\")   \n",
    "print(b)"
   ]
  },
  {
   "cell_type": "markdown",
   "metadata": {},
   "source": [
    "We can also ask whether a rectangle is empty or full."
   ]
  },
  {
   "cell_type": "code",
   "execution_count": 36,
   "metadata": {},
   "outputs": [
    {
     "name": "stdout",
     "output_type": "stream",
     "text": [
      "False\n",
      "True\n",
      "True\n",
      "False\n"
     ]
    }
   ],
   "source": [
    "print(b.is_empty(Location(0, 0), Shape(3, 3)))\n",
    "print(b.is_empty(Location(0, 1), Shape(3, 3)))\n",
    "print(b.is_full(Location(0, 0)))\n",
    "print(b.is_full(Location(0, 0), Shape(1, 2)))"
   ]
  },
  {
   "cell_type": "code",
   "execution_count": null,
   "metadata": {},
   "outputs": [],
   "source": []
  },
  {
   "cell_type": "code",
   "execution_count": null,
   "metadata": {},
   "outputs": [],
   "source": []
  },
  {
   "cell_type": "code",
   "execution_count": null,
   "metadata": {},
   "outputs": [],
   "source": []
  }
 ],
 "metadata": {
  "hide_input": false,
  "kernelspec": {
   "display_name": "Python 3",
   "language": "python",
   "name": "python3"
  },
  "language_info": {
   "codemirror_mode": {
    "name": "ipython",
    "version": 3
   },
   "file_extension": ".py",
   "mimetype": "text/x-python",
   "name": "python",
   "nbconvert_exporter": "python",
   "pygments_lexer": "ipython3",
   "version": "3.8.5"
  },
  "varInspector": {
   "cols": {
    "lenName": 16,
    "lenType": 16,
    "lenVar": 40
   },
   "kernels_config": {
    "python": {
     "delete_cmd_postfix": "",
     "delete_cmd_prefix": "del ",
     "library": "var_list.py",
     "varRefreshCmd": "print(var_dic_list())"
    },
    "r": {
     "delete_cmd_postfix": ") ",
     "delete_cmd_prefix": "rm(",
     "library": "var_list.r",
     "varRefreshCmd": "cat(var_dic_list()) "
    }
   },
   "types_to_exclude": [
    "module",
    "function",
    "builtin_function_or_method",
    "instance",
    "_Feature"
   ],
   "window_display": false
  }
 },
 "nbformat": 4,
 "nbformat_minor": 4
}
